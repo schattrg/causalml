{
 "cells": [
  {
   "cell_type": "code",
   "execution_count": 1,
   "metadata": {},
   "outputs": [],
   "source": [
    "import numpy as np\n",
    "import pandas as pd"
   ]
  },
  {
   "cell_type": "markdown",
   "metadata": {},
   "source": [
    "### Data Generation\n",
    "\n",
    "Metrics\n",
    "- Continuous\n",
    "- Binary\n",
    "- Ratio\n",
    "\n",
    "Data structure\n",
    "- User-level data and randomization\n",
    "- Pre-treatment metrics and other covariates for variance reduction and bias correction\n",
    "- Treatment Indicator"
   ]
  },
  {
   "cell_type": "code",
   "execution_count": null,
   "metadata": {},
   "outputs": [],
   "source": [
    "# parameters\n",
    "n_users=1000\n",
    "n_features=10 \n",
    "n_confounders=4\n",
    "treatment_effect_func=lambda x: 5\n",
    "endogenous=False\n",
    "seed=123\n"
   ]
  },
  {
   "cell_type": "code",
   "execution_count": null,
   "metadata": {},
   "outputs": [],
   "source": [
    "np.random.seed(seed)\n",
    "\n",
    "# Covariates and Features\n",
    "W = np.random.normal(0, 1, size=(n_users, n_features))\n",
    "\n",
    "# Treatment Effect\n",
    "X = W[:, np.random.choice(n_features, n_confounders, replace=False)]\n",
    "\n",
    "TE = np.array([treatment_effect_func(x_i) for x_i in X])\n",
    "\n",
    "# Treatment Assignment\n",
    "if endogenous:\n",
    "    # assignment depends on X\n",
    "    coefs_T = np.random.uniform(0, 1, size=n_features)\n",
    "    log_odds = np.dot(W[:, :5], coefs_T[:5]) + np.random.uniform(-1, 1, size=n_users)\n",
    "    T_sigmoid = 1 / (1 + np.exp(-log_odds))\n",
    "    T = np.array([np.random.binomia(1,p) for p in T_sigmoid])\n",
    "else:\n",
    "    T = np.random.binomial(1, 0.5, n_users)\n",
    "\n",
    "coefs_Y = np.random.uniform(0, 1, size=)"
   ]
  },
  {
   "cell_type": "code",
   "execution_count": null,
   "metadata": {},
   "outputs": [],
   "source": []
  },
  {
   "cell_type": "code",
   "execution_count": null,
   "metadata": {},
   "outputs": [],
   "source": [
    "def generate_ab_test_data(\n",
    "    n_users=1000,  # Number of users\n",
    "    n_covariates=4,  # Number of individual characteristics\n",
    "    n_features=10,  # Number of feature variables\n",
    "    treatment_effect_func=lambda x: np.exp(2 * x[0]),  # Heterogeneous treatment effect\n",
    "    beta=5,  # Baseline treatment effect\n",
    "    endogenous=False,  # Whether treatment assignment is endogenous\n",
    "    seed=42  # Random seed for reproducibility\n",
    "):\n",
    "    np.random.seed(seed)\n",
    "\n",
    "    # Generate features\n",
    "    W = np.random.normal(0, 1, size=(n_users, n_features))\n",
    "\n",
    "    # Select a random subset of W as covariates X\n",
    "    covariate_indices = np.random.choice(n_features, n_covariates, replace=False)\n",
    "    X = W[:, covariate_indices]\n",
    "\n",
    "    # Define heterogeneous treatment effects\n",
    "    TE = np.array([treatment_effect_func(x_i) for x_i in X])\n",
    "\n",
    "    # Generate treatment assignment\n",
    "    if endogenous:\n",
    "        # Treatment assignment depends on specific features\n",
    "        coefs_T = np.random.uniform(0, 1, size=n_features)\n",
    "        log_odds = np.dot(W, coefs_T) + np.random.uniform(-1, 1, size=n_users)\n",
    "        T_sigmoid = 1 / (1 + np.exp(-log_odds))\n",
    "        T = np.array([np.random.binomial(1, p) for p in T_sigmoid])\n",
    "    else:\n",
    "        # Random treatment assignment\n",
    "        T = np.random.binomial(1, 0.5, n_users)\n",
    "\n",
    "    # Generate outcomes\n",
    "    coefs_Y = np.random.uniform(0, 1, size=n_features)\n",
    "    epsilon = np.random.uniform(-1, 1, size=n_users)\n",
    "    Y = TE * T + np.dot(W, coefs_Y) + epsilon\n",
    "\n",
    "    # Create DataFrame\n",
    "    data = pd.DataFrame(\n",
    "        np.hstack((\n",
    "            np.arange(1, n_users + 1).reshape(-1, 1),\n",
    "            T.reshape(-1, 1),\n",
    "            X,\n",
    "            W,\n",
    "            Y.reshape(-1, 1)\n",
    "        )),\n",
    "        columns=[\n",
    "            \"user_id\", \"T\" \n",
    "        ] + [f\"X{i + 1}\" for i in range(n_covariates)] + [f\"W{i + 1}\" for i in range(n_features)] + [\"Y\"]\n",
    "    )\n",
    "\n",
    "    return data\n",
    "\n",
    "# Example usage\n",
    "data = generate_ab_test_data(n_users=1000, endogenous=True)\n",
    "print(data.head())\n"
   ]
  }
 ],
 "metadata": {
  "kernelspec": {
   "display_name": "causalml",
   "language": "python",
   "name": "python3"
  },
  "language_info": {
   "codemirror_mode": {
    "name": "ipython",
    "version": 3
   },
   "file_extension": ".py",
   "mimetype": "text/x-python",
   "name": "python",
   "nbconvert_exporter": "python",
   "pygments_lexer": "ipython3",
   "version": "3.9.19"
  }
 },
 "nbformat": 4,
 "nbformat_minor": 2
}
